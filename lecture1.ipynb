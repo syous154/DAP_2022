{
  "nbformat": 4,
  "nbformat_minor": 0,
  "metadata": {
    "colab": {
      "provenance": [],
      "collapsed_sections": [],
      "mount_file_id": "1OgeTN2rKff9KMv3Ys25KPFPUwwnzuYw1",
      "authorship_tag": "ABX9TyPEqU7H9XuPabkIjbNWbJZY",
      "include_colab_link": true
    },
    "kernelspec": {
      "name": "python3",
      "display_name": "Python 3"
    },
    "language_info": {
      "name": "python"
    }
  },
  "cells": [
    {
      "cell_type": "markdown",
      "metadata": {
        "id": "view-in-github",
        "colab_type": "text"
      },
      "source": [
        "<a href=\"https://colab.research.google.com/github/syous154/DAP_2022/blob/main/lecture1.ipynb\" target=\"_parent\"><img src=\"https://colab.research.google.com/assets/colab-badge.svg\" alt=\"Open In Colab\"/></a>"
      ]
    },
    {
      "cell_type": "code",
      "execution_count": 4,
      "metadata": {
        "id": "Lodd1zTI2-xT"
      },
      "outputs": [],
      "source": [
        "import numpy as np\n",
        "import pandas as pd\n",
        "import scipy\n",
        "import matplotlib\n",
        "import seaborn as sns\n",
        "import sklearn"
      ]
    },
    {
      "cell_type": "code",
      "source": [
        "print(f'numpy version : {np.__version__}')\n",
        "print(f'pandas version : {pd.__version__}')\n",
        "print(f'scipy version : {scipy.__version__}')\n",
        "print(f'matplotlib version : {matplotlib.__version__}')\n",
        "print(f'seaborn version : {sns.__version__}')\n",
        "print(f'sklearn version : {sklearn.__version__}')"
      ],
      "metadata": {
        "colab": {
          "base_uri": "https://localhost:8080/"
        },
        "id": "hEBg4GYn3zWQ",
        "outputId": "eeaf4266-e9c2-47a4-f7bc-6f021ef2dc99"
      },
      "execution_count": 5,
      "outputs": [
        {
          "output_type": "stream",
          "name": "stdout",
          "text": [
            "numpy version : 1.21.6\n",
            "pandas version : 1.3.5\n",
            "scipy version : 1.7.3\n",
            "matplotlib version : 3.2.2\n",
            "seaborn version : 0.11.2\n",
            "sklearn version : 1.0.2\n"
          ]
        }
      ]
    }
  ]
}